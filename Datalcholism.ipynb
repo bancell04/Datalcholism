{
 "cells": [
  {
   "cell_type": "code",
   "execution_count": 35,
   "metadata": {},
   "outputs": [],
   "source": [
    "import matplotlib.pyplot as plt\n",
    "import numpy as np\n",
    "import pandas as pd\n",
    "import sklearn as sk\n",
    "import sklearn.datasets\n",
    "\n",
    "from sklearn.linear_model import LinearRegression\n",
    "from sklearn.model_selection import train_test_split\n",
    "from pandas import DataFrame"
   ]
  },
  {
   "cell_type": "code",
   "execution_count": 36,
   "metadata": {},
   "outputs": [],
   "source": [
    "#https://www.kaggle.com/datasets/uciml/student-alcohol-consumption/\n",
    "df_mat = pd.read_csv('student-mat.csv') # math course\n",
    "df_por = pd.read_csv('student-por.csv') # portuguease language course\n",
    "df_both = pd.concat([df_mat, df_por])"
   ]
  },
  {
   "cell_type": "code",
   "execution_count": 37,
   "metadata": {},
   "outputs": [
    {
     "name": "stdout",
     "output_type": "stream",
     "text": [
      "<class 'pandas.core.frame.DataFrame'>\n",
      "Index: 1044 entries, 0 to 648\n",
      "Data columns (total 33 columns):\n",
      " #   Column      Non-Null Count  Dtype \n",
      "---  ------      --------------  ----- \n",
      " 0   school      1044 non-null   object\n",
      " 1   sex         1044 non-null   object\n",
      " 2   age         1044 non-null   int64 \n",
      " 3   address     1044 non-null   object\n",
      " 4   famsize     1044 non-null   object\n",
      " 5   Pstatus     1044 non-null   object\n",
      " 6   Medu        1044 non-null   int64 \n",
      " 7   Fedu        1044 non-null   int64 \n",
      " 8   Mjob        1044 non-null   object\n",
      " 9   Fjob        1044 non-null   object\n",
      " 10  reason      1044 non-null   object\n",
      " 11  guardian    1044 non-null   object\n",
      " 12  traveltime  1044 non-null   int64 \n",
      " 13  studytime   1044 non-null   int64 \n",
      " 14  failures    1044 non-null   int64 \n",
      " 15  schoolsup   1044 non-null   object\n",
      " 16  famsup      1044 non-null   object\n",
      " 17  paid        1044 non-null   object\n",
      " 18  activities  1044 non-null   object\n",
      " 19  nursery     1044 non-null   object\n",
      " 20  higher      1044 non-null   object\n",
      " 21  internet    1044 non-null   object\n",
      " 22  romantic    1044 non-null   object\n",
      " 23  famrel      1044 non-null   int64 \n",
      " 24  freetime    1044 non-null   int64 \n",
      " 25  goout       1044 non-null   int64 \n",
      " 26  Dalc        1044 non-null   int64 \n",
      " 27  Walc        1044 non-null   int64 \n",
      " 28  health      1044 non-null   int64 \n",
      " 29  absences    1044 non-null   int64 \n",
      " 30  G1          1044 non-null   int64 \n",
      " 31  G2          1044 non-null   int64 \n",
      " 32  G3          1044 non-null   int64 \n",
      "dtypes: int64(16), object(17)\n",
      "memory usage: 277.3+ KB\n"
     ]
    }
   ],
   "source": [
    "df_both.info()\n",
    "\n",
    "# FEATURES: grades (G1-G3), absences, age, parents edu (Medu, Fedu), parents status (Pstatus - T together, A - apart), study time, class\n",
    "# failures, internet access (Y or N), goout (how often, 1-5), health (1-5)\n",
    "# TARGET: Walc (weekend alcohol consumption), Dalc (workday alcohol consumption)"
   ]
  },
  {
   "cell_type": "code",
   "execution_count": 39,
   "metadata": {},
   "outputs": [
    {
     "name": "stdout",
     "output_type": "stream",
     "text": [
      "<class 'pandas.core.frame.DataFrame'>\n",
      "Index: 1044 entries, 0 to 648\n",
      "Data columns (total 14 columns):\n",
      " #   Column     Non-Null Count  Dtype\n",
      "---  ------     --------------  -----\n",
      " 0   G1         1044 non-null   int64\n",
      " 1   G2         1044 non-null   int64\n",
      " 2   G3         1044 non-null   int64\n",
      " 3   absences   1044 non-null   int64\n",
      " 4   age        1044 non-null   int64\n",
      " 5   Medu       1044 non-null   int64\n",
      " 6   Fedu       1044 non-null   int64\n",
      " 7   Pstatus    1044 non-null   int32\n",
      " 8   studytime  1044 non-null   int64\n",
      " 9   failures   1044 non-null   int64\n",
      " 10  internet   1044 non-null   int32\n",
      " 11  goout      1044 non-null   int64\n",
      " 12  health     1044 non-null   int64\n",
      " 13  Talc       1044 non-null   int64\n",
      "dtypes: int32(2), int64(12)\n",
      "memory usage: 114.2 KB\n"
     ]
    }
   ],
   "source": [
    "new_parent_status = pd.get_dummies(df_both[\"Pstatus\"], dtype=int, drop_first=True)\n",
    "df_both[\"Pstatus\"] = new_parent_status\n",
    "\n",
    "new_internet = pd.get_dummies(df_both[\"internet\"], dtype=int, drop_first=True)\n",
    "df_both[\"internet\"] = new_internet\n",
    "\n",
    "df_both[\"Talc\"] = df_both[\"Dalc\"] + df_both[\"Walc\"]\n",
    "df_both = df_both[[\"G1\", \"G2\", \"G3\", \"absences\", \"age\", \"Medu\", \"Fedu\", \"Pstatus\", \"studytime\", \"failures\", \"internet\", \"goout\", \"health\", \"Talc\"]]\n",
    "df_both.info()"
   ]
  }
 ],
 "metadata": {
  "kernelspec": {
   "display_name": "Python 3",
   "language": "python",
   "name": "python3"
  },
  "language_info": {
   "codemirror_mode": {
    "name": "ipython",
    "version": 3
   },
   "file_extension": ".py",
   "mimetype": "text/x-python",
   "name": "python",
   "nbconvert_exporter": "python",
   "pygments_lexer": "ipython3",
   "version": "3.9.13"
  },
  "orig_nbformat": 4
 },
 "nbformat": 4,
 "nbformat_minor": 2
}
